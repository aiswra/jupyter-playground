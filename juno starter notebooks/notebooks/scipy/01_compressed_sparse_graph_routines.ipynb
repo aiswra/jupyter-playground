{
 "cells": [
  {
   "cell_type": "markdown",
   "metadata": {},
   "source": [
    "# Compressed Sparse Graph Routines (`scipy.sparse.csgraph`)"
   ]
  },
  {
   "cell_type": "code",
   "execution_count": 1,
   "metadata": {},
   "outputs": [],
   "source": [
    "word_list = open('/usr/share/dict/words').readlines()\n",
    "word_list = map(str.strip, word_list)"
   ]
  },
  {
   "cell_type": "code",
   "execution_count": 2,
   "metadata": {},
   "outputs": [
    {
     "data": {
      "text/plain": [
       "1135"
      ]
     },
     "execution_count": 2,
     "metadata": {},
     "output_type": "execute_result"
    }
   ],
   "source": [
    "word_list = [word for word in word_list if len(word) == 3]\n",
    "word_list = [word for word in word_list if word[0].islower()]\n",
    "word_list = [word for word in word_list if word.isalpha()]\n",
    "word_list = list(map(str.lower, word_list))\n",
    "len(word_list)"
   ]
  },
  {
   "cell_type": "code",
   "execution_count": 4,
   "metadata": {},
   "outputs": [
    {
     "data": {
      "text/plain": [
       "dtype('<U3')"
      ]
     },
     "execution_count": 4,
     "metadata": {},
     "output_type": "execute_result"
    }
   ],
   "source": [
    "import numpy as np\n",
    "word_list = np.asarray(word_list)\n",
    "word_list.dtype   # these are unicode characters in Python 3"
   ]
  },
  {
   "cell_type": "code",
   "execution_count": 6,
   "metadata": {},
   "outputs": [
    {
     "data": {
      "text/plain": [
       "(1135, 3)"
      ]
     },
     "execution_count": 6,
     "metadata": {},
     "output_type": "execute_result"
    }
   ],
   "source": [
    "word_list.sort()  # sort for quick searching later\n",
    "word_bytes = np.ndarray((word_list.size, word_list.itemsize),\n",
    "                        dtype='uint8',\n",
    "                        buffer=word_list.data)\n",
    "# each unicode character is four bytes long. We only need first byte\n",
    "# we know that there are three characters in each word\n",
    "word_bytes = word_bytes[:, ::word_list.itemsize//3]\n",
    "word_bytes.shape"
   ]
  },
  {
   "cell_type": "code",
   "execution_count": 8,
   "metadata": {},
   "outputs": [
    {
     "name": "stdout",
     "output_type": "stream",
     "text": [
      "ape\n",
      "man\n"
     ]
    }
   ],
   "source": [
    "from scipy.spatial.distance import pdist, squareform\n",
    "from scipy.sparse import csr_matrix\n",
    "hamming_dist = pdist(word_bytes, metric='hamming')\n",
    "# there are three characters in each word\n",
    "graph = csr_matrix(squareform(hamming_dist < 1.5 / 3))\n",
    "i1 = word_list.searchsorted('ape')\n",
    "i2 = word_list.searchsorted('man')\n",
    "print(word_list[i1])\n",
    "print(word_list[i2])"
   ]
  },
  {
   "cell_type": "code",
   "execution_count": 9,
   "metadata": {},
   "outputs": [
    {
     "name": "stdout",
     "output_type": "stream",
     "text": [
      "5.0\n"
     ]
    }
   ],
   "source": [
    "from scipy.sparse.csgraph import dijkstra\n",
    "distances, predecessors = dijkstra(graph, indices=i1,\n",
    "                                   return_predecessors=True)\n",
    "print(distances[i2])"
   ]
  },
  {
   "cell_type": "code",
   "execution_count": 10,
   "metadata": {},
   "outputs": [
    {
     "name": "stdout",
     "output_type": "stream",
     "text": [
      "['ape', 'ope', 'opt', 'oat', 'mat', 'man']\n"
     ]
    }
   ],
   "source": [
    "path = []\n",
    "i = i2\n",
    "while i != i1:\n",
    "    path.append(word_list[i])\n",
    "    i = predecessors[i]\n",
    "path.append(word_list[i1])\n",
    "print(path[::-1])"
   ]
  },
  {
   "cell_type": "code",
   "execution_count": 11,
   "metadata": {},
   "outputs": [
    {
     "name": "stdout",
     "output_type": "stream",
     "text": [
      "4\n"
     ]
    }
   ],
   "source": [
    "from scipy.sparse.csgraph import connected_components\n",
    "N_components, component_list = connected_components(graph)\n",
    "print(N_components)"
   ]
  },
  {
   "cell_type": "code",
   "execution_count": 12,
   "metadata": {},
   "outputs": [
    {
     "data": {
      "text/plain": [
       "[1132, 1, 1, 1]"
      ]
     },
     "execution_count": 12,
     "metadata": {},
     "output_type": "execute_result"
    }
   ],
   "source": [
    "[np.sum(component_list == i) for i in range(N_components)]"
   ]
  },
  {
   "cell_type": "code",
   "execution_count": 13,
   "metadata": {},
   "outputs": [
    {
     "data": {
      "text/plain": [
       "[['edh'], ['its'], ['nth']]"
      ]
     },
     "execution_count": 13,
     "metadata": {},
     "output_type": "execute_result"
    }
   ],
   "source": [
    "[list(word_list[np.nonzero(component_list == i)]) for i in range(1, N_components)]"
   ]
  },
  {
   "cell_type": "code",
   "execution_count": 14,
   "metadata": {},
   "outputs": [
    {
     "name": "stdout",
     "output_type": "stream",
     "text": [
      "8.0\n"
     ]
    }
   ],
   "source": [
    "distances, predecessors = dijkstra(graph, return_predecessors=True)\n",
    "max_distance = np.max(distances[~np.isinf(distances)])\n",
    "print(max_distance)"
   ]
  },
  {
   "cell_type": "code",
   "execution_count": 15,
   "metadata": {
    "collapsed": true
   },
   "outputs": [
    {
     "data": {
      "text/plain": [
       "[('cwm', 'upo'),\n",
       " ('gnu', 'icy'),\n",
       " ('gnu', 'ump'),\n",
       " ('gnu', 'upo'),\n",
       " ('hei', 'upo'),\n",
       " ('hen', 'upo'),\n",
       " ('hep', 'upo'),\n",
       " ('hew', 'upo'),\n",
       " ('hex', 'upo'),\n",
       " ('hub', 'upo'),\n",
       " ('hug', 'upo'),\n",
       " ('hup', 'upo'),\n",
       " ('hyp', 'upo'),\n",
       " ('icy', 'gnu'),\n",
       " ('imp', 'mux'),\n",
       " ('imp', 'quo'),\n",
       " ('imp', 'yus'),\n",
       " ('imu', 'yus'),\n",
       " ('jet', 'upo'),\n",
       " ('jug', 'upo'),\n",
       " ('jut', 'upo'),\n",
       " ('keb', 'upo'),\n",
       " ('kef', 'upo'),\n",
       " ('keg', 'upo'),\n",
       " ('ken', 'upo'),\n",
       " ('kep', 'upo'),\n",
       " ('kex', 'upo'),\n",
       " ('mux', 'imp'),\n",
       " ('nun', 'upo'),\n",
       " ('our', 'upo'),\n",
       " ('peg', 'upo'),\n",
       " ('pen', 'upo'),\n",
       " ('pep', 'upo'),\n",
       " ('pew', 'upo'),\n",
       " ('pub', 'upo'),\n",
       " ('pug', 'upo'),\n",
       " ('pun', 'upo'),\n",
       " ('pup', 'upo'),\n",
       " ('pus', 'upo'),\n",
       " ('pya', 'upo'),\n",
       " ('pyx', 'upo'),\n",
       " ('quo', 'imp'),\n",
       " ('quo', 'upo'),\n",
       " ('ssu', 'upo'),\n",
       " ('uji', 'upo'),\n",
       " ('ump', 'gnu'),\n",
       " ('upo', 'cwm'),\n",
       " ('upo', 'gnu'),\n",
       " ('upo', 'hei'),\n",
       " ('upo', 'hen'),\n",
       " ('upo', 'hep'),\n",
       " ('upo', 'hew'),\n",
       " ('upo', 'hex'),\n",
       " ('upo', 'hub'),\n",
       " ('upo', 'hug'),\n",
       " ('upo', 'hup'),\n",
       " ('upo', 'hyp'),\n",
       " ('upo', 'jet'),\n",
       " ('upo', 'jug'),\n",
       " ('upo', 'jut'),\n",
       " ('upo', 'keb'),\n",
       " ('upo', 'kef'),\n",
       " ('upo', 'keg'),\n",
       " ('upo', 'ken'),\n",
       " ('upo', 'kep'),\n",
       " ('upo', 'kex'),\n",
       " ('upo', 'nun'),\n",
       " ('upo', 'our'),\n",
       " ('upo', 'peg'),\n",
       " ('upo', 'pen'),\n",
       " ('upo', 'pep'),\n",
       " ('upo', 'pew'),\n",
       " ('upo', 'pub'),\n",
       " ('upo', 'pug'),\n",
       " ('upo', 'pun'),\n",
       " ('upo', 'pup'),\n",
       " ('upo', 'pus'),\n",
       " ('upo', 'pya'),\n",
       " ('upo', 'pyx'),\n",
       " ('upo', 'quo'),\n",
       " ('upo', 'ssu'),\n",
       " ('upo', 'uji'),\n",
       " ('upo', 'vei'),\n",
       " ('upo', 'vet'),\n",
       " ('upo', 'vex'),\n",
       " ('upo', 'vug'),\n",
       " ('upo', 'yak'),\n",
       " ('upo', 'yen'),\n",
       " ('upo', 'yeo'),\n",
       " ('upo', 'yep'),\n",
       " ('upo', 'yet'),\n",
       " ('upo', 'yew'),\n",
       " ('upo', 'yex'),\n",
       " ('upo', 'yez'),\n",
       " ('upo', 'yok'),\n",
       " ('upo', 'yus'),\n",
       " ('upo', 'zak'),\n",
       " ('vei', 'upo'),\n",
       " ('vet', 'upo'),\n",
       " ('vex', 'upo'),\n",
       " ('vug', 'upo'),\n",
       " ('yak', 'upo'),\n",
       " ('yen', 'upo'),\n",
       " ('yeo', 'upo'),\n",
       " ('yep', 'upo'),\n",
       " ('yet', 'upo'),\n",
       " ('yew', 'upo'),\n",
       " ('yex', 'upo'),\n",
       " ('yez', 'upo'),\n",
       " ('yok', 'upo'),\n",
       " ('yus', 'imp'),\n",
       " ('yus', 'imu'),\n",
       " ('yus', 'upo'),\n",
       " ('zak', 'upo')]"
      ]
     },
     "execution_count": 15,
     "metadata": {},
     "output_type": "execute_result"
    }
   ],
   "source": [
    "i1, i2 = np.nonzero(distances == max_distance)\n",
    "list(zip(word_list[i1], word_list[i2]))"
   ]
  },
  {
   "cell_type": "code",
   "execution_count": 16,
   "metadata": {},
   "outputs": [
    {
     "name": "stdout",
     "output_type": "stream",
     "text": [
      "['cwm', 'cam', 'cay', 'cry', 'ary', 'ady', 'ado', 'udo', 'upo']\n"
     ]
    }
   ],
   "source": [
    "path = []\n",
    "i = i2[0]\n",
    "while i != i1[0]:\n",
    "    path.append(word_list[i])\n",
    "    i = predecessors[i1[0], i]\n",
    "path.append(word_list[i1[0]])\n",
    "print(path[::-1])"
   ]
  }
 ],
 "metadata": {
  "kernelspec": {
   "display_name": "Python 3",
   "language": "python",
   "name": "python3"
  },
  "language_info": {
   "codemirror_mode": {
    "name": "ipython",
    "version": 3
   },
   "file_extension": ".py",
   "mimetype": "text/x-python",
   "name": "python",
   "nbconvert_exporter": "python",
   "pygments_lexer": "ipython3",
   "version": "3.7.3"
  }
 },
 "nbformat": 4,
 "nbformat_minor": 2
}
