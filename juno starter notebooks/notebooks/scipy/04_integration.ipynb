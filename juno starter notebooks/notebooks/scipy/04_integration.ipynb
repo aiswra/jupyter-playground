{
 "cells": [
  {
   "cell_type": "markdown",
   "metadata": {},
   "source": [
    "# Integration (`scipy.integrate`)"
   ]
  },
  {
   "cell_type": "code",
   "execution_count": 1,
   "metadata": {},
   "outputs": [
    {
     "data": {
      "text/plain": [
       "(1.1178179380783253, 7.866317216380692e-09)"
      ]
     },
     "execution_count": 1,
     "metadata": {},
     "output_type": "execute_result"
    }
   ],
   "source": [
    "import scipy.integrate as integrate\n",
    "import scipy.special as special\n",
    "result = integrate.quad(lambda x: special.jv(2.5,x), 0, 4.5)\n",
    "result"
   ]
  },
  {
   "cell_type": "code",
   "execution_count": 2,
   "metadata": {},
   "outputs": [
    {
     "data": {
      "text/plain": [
       "1.117817938088701"
      ]
     },
     "execution_count": 2,
     "metadata": {},
     "output_type": "execute_result"
    }
   ],
   "source": [
    "from numpy import sqrt, sin, cos, pi\n",
    "I = sqrt(2/pi)*(18.0/27*sqrt(2)*cos(4.5) - 4.0/27*sqrt(2)*sin(4.5) +\n",
    "                sqrt(2*pi) * special.fresnel(3/sqrt(pi))[0])\n",
    "I"
   ]
  },
  {
   "cell_type": "code",
   "execution_count": 3,
   "metadata": {},
   "outputs": [
    {
     "name": "stdout",
     "output_type": "stream",
     "text": [
      "1.0375700298936863e-11\n"
     ]
    }
   ],
   "source": [
    "print(abs(result[0]-I))"
   ]
  },
  {
   "cell_type": "code",
   "execution_count": 4,
   "metadata": {},
   "outputs": [
    {
     "data": {
      "text/plain": [
       "(1.6666666666666667, 1.8503717077085944e-14)"
      ]
     },
     "execution_count": 4,
     "metadata": {},
     "output_type": "execute_result"
    }
   ],
   "source": [
    "from scipy.integrate import quad\n",
    "def integrand(x, a, b):\n",
    "    return a*x**2 + b\n",
    "\n",
    "a = 2\n",
    "b = 1\n",
    "I = quad(integrand, 0, 1, args=(a,b))\n",
    "I"
   ]
  },
  {
   "cell_type": "code",
   "execution_count": 5,
   "metadata": {},
   "outputs": [],
   "source": [
    "from scipy.integrate import quad\n",
    "def integrand(t, n, x):\n",
    "    return np.exp(-x*t) / t**n"
   ]
  },
  {
   "cell_type": "code",
   "execution_count": 6,
   "metadata": {},
   "outputs": [],
   "source": [
    "def expint(n, x):\n",
    "    return quad(integrand, 1, np.inf, args=(n, x))[0]"
   ]
  },
  {
   "cell_type": "code",
   "execution_count": 7,
   "metadata": {},
   "outputs": [],
   "source": [
    "import numpy as np\n",
    "vec_expint = np.vectorize(expint)"
   ]
  },
  {
   "cell_type": "code",
   "execution_count": 8,
   "metadata": {},
   "outputs": [
    {
     "data": {
      "text/plain": [
       "array([0.10969197, 0.05673949, 0.03013338, 0.01629537, 0.00893065,\n",
       "       0.00494538])"
      ]
     },
     "execution_count": 8,
     "metadata": {},
     "output_type": "execute_result"
    }
   ],
   "source": [
    "vec_expint(3, np.arange(1.0, 4.0, 0.5))\n",
    "\n",
    "import scipy.special as special\n",
    "special.expn(3, np.arange(1.0,4.0,0.5))"
   ]
  },
  {
   "cell_type": "code",
   "execution_count": 9,
   "metadata": {},
   "outputs": [
    {
     "name": "stdout",
     "output_type": "stream",
     "text": [
      "(0.33333333325010883, 2.8604069921197956e-09)\n"
     ]
    }
   ],
   "source": [
    "result = quad(lambda x: expint(3, x), 0, np.inf)\n",
    "print(result)"
   ]
  },
  {
   "cell_type": "code",
   "execution_count": 10,
   "metadata": {},
   "outputs": [
    {
     "name": "stdout",
     "output_type": "stream",
     "text": [
      "0.3333333333333333\n"
     ]
    }
   ],
   "source": [
    "I3 = 1.0/3.0\n",
    "print(I3)"
   ]
  },
  {
   "cell_type": "code",
   "execution_count": 11,
   "metadata": {},
   "outputs": [
    {
     "name": "stdout",
     "output_type": "stream",
     "text": [
      "8.322448286079975e-11\n"
     ]
    }
   ],
   "source": [
    "print(I3 - result[0])"
   ]
  },
  {
   "cell_type": "code",
   "execution_count": 12,
   "metadata": {},
   "outputs": [
    {
     "name": "stdout",
     "output_type": "stream",
     "text": [
      "(0.2500000000043577, 1.2983033469368098e-08)\n",
      "(0.33333333325010883, 1.3888461883425516e-08)\n",
      "(0.4999999999985751, 1.3894083651858995e-08)\n"
     ]
    }
   ],
   "source": [
    "from scipy.integrate import quad, dblquad\n",
    "def I(n):\n",
    "    return dblquad(lambda t, x: np.exp(-x*t)/t**n, 0, np.inf, lambda x: 1, lambda x: np.inf)\n",
    "\n",
    "print(I(4))\n",
    "\n",
    "print(I(3))\n",
    "\n",
    "print(I(2))"
   ]
  },
  {
   "cell_type": "code",
   "execution_count": 13,
   "metadata": {},
   "outputs": [
    {
     "data": {
      "text/plain": [
       "(0.010416666666666668, 4.101620128472366e-16)"
      ]
     },
     "execution_count": 13,
     "metadata": {},
     "output_type": "execute_result"
    }
   ],
   "source": [
    "from scipy.integrate import dblquad\n",
    "area = dblquad(lambda x, y: x*y, 0, 0.5, lambda x: 0, lambda x: 1-2*x)\n",
    "area"
   ]
  },
  {
   "cell_type": "code",
   "execution_count": 14,
   "metadata": {},
   "outputs": [
    {
     "data": {
      "text/plain": [
       "(0.2000000000189363, 1.3682975855986131e-08)"
      ]
     },
     "execution_count": 14,
     "metadata": {},
     "output_type": "execute_result"
    }
   ],
   "source": [
    "from scipy import integrate\n",
    "N = 5\n",
    "def f(t, x):\n",
    "    return np.exp(-x*t) / t**N\n",
    "\n",
    "integrate.nquad(f, [[1, np.inf],[0, np.inf]])"
   ]
  },
  {
   "cell_type": "code",
   "execution_count": 15,
   "metadata": {},
   "outputs": [
    {
     "data": {
      "text/plain": [
       "(0.010416666666666668, 4.101620128472366e-16)"
      ]
     },
     "execution_count": 15,
     "metadata": {},
     "output_type": "execute_result"
    }
   ],
   "source": [
    "def f(x, y):\n",
    "    return x*y\n",
    "\n",
    "def bounds_y():\n",
    "    return [0, 0.5]\n",
    "\n",
    "def bounds_x(y):\n",
    "    return [0, 1-2*y]\n",
    "\n",
    "integrate.nquad(f, [bounds_x, bounds_y])"
   ]
  },
  {
   "cell_type": "code",
   "execution_count": 16,
   "metadata": {},
   "outputs": [
    {
     "name": "stdout",
     "output_type": "stream",
     "text": [
      "21.0\n"
     ]
    }
   ],
   "source": [
    "def f1(x):\n",
    "    return x**2\n",
    "\n",
    "def f2(x):\n",
    "    return x**3\n",
    "\n",
    "x = np.array([1,3,4])\n",
    "y1 = f1(x)\n",
    "from scipy.integrate import simps\n",
    "I1 = simps(y1, x)\n",
    "print(I1)"
   ]
  },
  {
   "cell_type": "code",
   "execution_count": 17,
   "metadata": {},
   "outputs": [
    {
     "name": "stdout",
     "output_type": "stream",
     "text": [
      "61.5\n"
     ]
    }
   ],
   "source": [
    "y2 = f2(x)\n",
    "I2 = integrate.simps(y2, x)\n",
    "print(I2)"
   ]
  },
  {
   "cell_type": "code",
   "execution_count": 18,
   "metadata": {},
   "outputs": [
    {
     "name": "stdout",
     "output_type": "stream",
     "text": [
      "sol1.t: [0.         0.10097672 1.04643602 1.91060117 2.49872472 3.08684827\n",
      " 3.62692846 4.        ]\n",
      "sol1.y[1]: [0.35502805 0.328952   0.12801343 0.04008508 0.01601291 0.00623879\n",
      " 0.00356316 0.00405982]\n",
      "airy(sol.t)[0]:  [0.35502805 0.328952   0.12804768 0.03995804 0.01575943 0.00562799\n",
      " 0.00201689 0.00095156]\n"
     ]
    }
   ],
   "source": [
    "from scipy.integrate import solve_ivp\n",
    "from scipy.special import gamma, airy\n",
    "y1_0 = +1 / 3**(2/3) / gamma(2/3)\n",
    "y0_0 = -1 / 3**(1/3) / gamma(1/3)\n",
    "y0 = [y0_0, y1_0]\n",
    "def func(t, y):\n",
    "    return [t*y[1],y[0]]\n",
    "\n",
    "t_span = [0, 4]\n",
    "sol1 = solve_ivp(func, t_span, y0)\n",
    "print(\"sol1.t: {}\".format(sol1.t))\n",
    "print(\"sol1.y[1]: {}\".format(sol1.y[1]))\n",
    "print(\"airy(sol.t)[0]:  {}\".format(airy(sol1.t)[0]))"
   ]
  },
  {
   "cell_type": "code",
   "execution_count": 19,
   "metadata": {},
   "outputs": [
    {
     "name": "stdout",
     "output_type": "stream",
     "text": [
      "sol2.y[1][::6]: [0.35502805 0.19145234 0.06368989 0.0205917  0.00554734 0.00106409]\n",
      "airy(sol2.t)[0][::6]: [0.35502805 0.19145234 0.06368989 0.0205917  0.00554733 0.00106406]\n"
     ]
    }
   ],
   "source": [
    "rtol, atol = (1e-8, 1e-8)\n",
    "sol2 = solve_ivp(func, t_span, y0, rtol=rtol, atol=atol)\n",
    "print(\"sol2.y[1][::6]: {}\".format(sol2.y[1][0::6]))\n",
    "print(\"airy(sol2.t)[0][::6]: {}\".format(airy(sol2.t)[0][::6]))"
   ]
  },
  {
   "cell_type": "code",
   "execution_count": 20,
   "metadata": {},
   "outputs": [],
   "source": [
    "t = np.linspace(0, 4, 100)\n",
    "sol3 = solve_ivp(func, t_span, y0, t_eval=t)"
   ]
  },
  {
   "cell_type": "code",
   "execution_count": 21,
   "metadata": {},
   "outputs": [],
   "source": [
    "def gradient(t, y):\n",
    "    return [[0,t], [1,0]]\n",
    "sol4 = solve_ivp(func, t_span, y0, method='Radau', jac=gradient)"
   ]
  },
  {
   "cell_type": "code",
   "execution_count": 22,
   "metadata": {},
   "outputs": [],
   "source": [
    "def G(u, v, f, k):\n",
    "    return f * (1 - u) - u*v**2\n",
    "\n",
    "def H(u, v, f, k):\n",
    "    return -(f + k) * v + u*v**2\n",
    "\n",
    "def grayscott1d(y, t, f, k, Du, Dv, dx):\n",
    "    \"\"\"\n",
    "    Differential equations for the 1-D Gray-Scott equations.\n",
    "\n",
    "    The ODEs are derived using the method of lines.\n",
    "    \"\"\"\n",
    "    # The vectors u and v are interleaved in y.  We define\n",
    "    # views of u and v by slicing y.\n",
    "    u = y[::2]\n",
    "    v = y[1::2]\n",
    "\n",
    "    # dydt is the return value of this function.\n",
    "    dydt = np.empty_like(y)\n",
    "\n",
    "    # Just like u and v are views of the interleaved vectors\n",
    "    # in y, dudt and dvdt are views of the interleaved output\n",
    "    # vectors in dydt.\n",
    "    dudt = dydt[::2]\n",
    "    dvdt = dydt[1::2]\n",
    "\n",
    "    # Compute du/dt and dv/dt.  The end points and the interior points\n",
    "    # are handled separately.\n",
    "    dudt[0]    = G(u[0],    v[0],    f, k) + Du * (-2.0*u[0] + 2.0*u[1]) / dx**2\n",
    "    dudt[1:-1] = G(u[1:-1], v[1:-1], f, k) + Du * np.diff(u,2) / dx**2\n",
    "    dudt[-1]   = G(u[-1],   v[-1],   f, k) + Du * (- 2.0*u[-1] + 2.0*u[-2]) / dx**2\n",
    "    dvdt[0]    = H(u[0],    v[0],    f, k) + Dv * (-2.0*v[0] + 2.0*v[1]) / dx**2\n",
    "    dvdt[1:-1] = H(u[1:-1], v[1:-1], f, k) + Dv * np.diff(v,2) / dx**2\n",
    "    dvdt[-1]   = H(u[-1],   v[-1],   f, k) + Dv * (-2.0*v[-1] + 2.0*v[-2]) / dx**2\n",
    "\n",
    "    return dydt"
   ]
  },
  {
   "cell_type": "code",
   "execution_count": 23,
   "metadata": {},
   "outputs": [],
   "source": [
    "from scipy.integrate import odeint\n",
    "\n",
    "y0 = np.random.randn(5000)\n",
    "t = np.linspace(0, 50, 11)\n",
    "f = 0.024\n",
    "k = 0.055\n",
    "Du = 0.01\n",
    "Dv = 0.005\n",
    "dx = 0.02"
   ]
  },
  {
   "cell_type": "code",
   "execution_count": 24,
   "metadata": {},
   "outputs": [],
   "source": [
    "sola = odeint(grayscott1d, y0, t, args=(f, k, Du, Dv, dx))"
   ]
  },
  {
   "cell_type": "code",
   "execution_count": 25,
   "metadata": {},
   "outputs": [],
   "source": [
    "solb = odeint(grayscott1d, y0, t, args=(f, k, Du, Dv, dx), ml=2, mu=2)"
   ]
  },
  {
   "cell_type": "code",
   "execution_count": 26,
   "metadata": {},
   "outputs": [
    {
     "data": {
      "text/plain": [
       "True"
      ]
     },
     "execution_count": 26,
     "metadata": {},
     "output_type": "execute_result"
    }
   ],
   "source": [
    "np.allclose(sola, solb)"
   ]
  }
 ],
 "metadata": {
  "kernelspec": {
   "display_name": "Python 3",
   "language": "python",
   "name": "python3"
  },
  "language_info": {
   "codemirror_mode": {
    "name": "ipython",
    "version": 3
   },
   "file_extension": ".py",
   "mimetype": "text/x-python",
   "name": "python",
   "nbconvert_exporter": "python",
   "pygments_lexer": "ipython3",
   "version": "3.7.3"
  }
 },
 "nbformat": 4,
 "nbformat_minor": 2
}
