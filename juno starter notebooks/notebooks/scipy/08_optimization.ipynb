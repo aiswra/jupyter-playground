{
 "cells": [
  {
   "cell_type": "markdown",
   "metadata": {},
   "source": [
    "# Optimization (`scipy.optimize`)"
   ]
  },
  {
   "cell_type": "code",
   "execution_count": 1,
   "metadata": {},
   "outputs": [],
   "source": [
    "import numpy as np\n",
    "from scipy.optimize import minimize"
   ]
  },
  {
   "cell_type": "code",
   "execution_count": 2,
   "metadata": {},
   "outputs": [
    {
     "name": "stdout",
     "output_type": "stream",
     "text": [
      "Optimization terminated successfully.\n",
      "         Current function value: 0.000000\n",
      "         Iterations: 339\n",
      "         Function evaluations: 571\n",
      "[1. 1. 1. 1. 1.]\n"
     ]
    }
   ],
   "source": [
    "def rosen(x):\n",
    "    \"\"\"The Rosenbrock function\"\"\"\n",
    "    return sum(100.0*(x[1:]-x[:-1]**2.0)**2.0 + (1-x[:-1])**2.0)\n",
    "\n",
    "x0 = np.array([1.3, 0.7, 0.8, 1.9, 1.2])\n",
    "res = minimize(rosen, x0, method='nelder-mead',\n",
    "               options={'xatol': 1e-8, 'disp': True})\n",
    "\n",
    "print(res.x)"
   ]
  },
  {
   "cell_type": "code",
   "execution_count": 3,
   "metadata": {},
   "outputs": [],
   "source": [
    "def rosen_der(x):\n",
    "    xm = x[1:-1]\n",
    "    xm_m1 = x[:-2]\n",
    "    xm_p1 = x[2:]\n",
    "    der = np.zeros_like(x)\n",
    "    der[1:-1] = 200*(xm-xm_m1**2) - 400*(xm_p1 - xm**2)*xm - 2*(1-xm)\n",
    "    der[0] = -400*x[0]*(x[1]-x[0]**2) - 2*(1-x[0])\n",
    "    der[-1] = 200*(x[-1]-x[-2]**2)\n",
    "    return der"
   ]
  },
  {
   "cell_type": "code",
   "execution_count": 4,
   "metadata": {},
   "outputs": [
    {
     "name": "stdout",
     "output_type": "stream",
     "text": [
      "Optimization terminated successfully.\n",
      "         Current function value: 0.000000\n",
      "         Iterations: 25\n",
      "         Function evaluations: 30\n",
      "         Gradient evaluations: 30\n"
     ]
    },
    {
     "data": {
      "text/plain": [
       "array([1.00000004, 1.0000001 , 1.00000021, 1.00000044, 1.00000092])"
      ]
     },
     "execution_count": 4,
     "metadata": {},
     "output_type": "execute_result"
    }
   ],
   "source": [
    "res = minimize(rosen, x0, method='BFGS', jac=rosen_der,\n",
    "               options={'disp': True})\n",
    "\n",
    "res.x"
   ]
  },
  {
   "cell_type": "code",
   "execution_count": 5,
   "metadata": {},
   "outputs": [],
   "source": [
    "def rosen_hess(x):\n",
    "    x = np.asarray(x)\n",
    "    H = np.diag(-400*x[:-1],1) - np.diag(400*x[:-1],-1)\n",
    "    diagonal = np.zeros_like(x)\n",
    "    diagonal[0] = 1200*x[0]**2-400*x[1]+2\n",
    "    diagonal[-1] = 200\n",
    "    diagonal[1:-1] = 202 + 1200*x[1:-1]**2 - 400*x[2:]\n",
    "    H = H + np.diag(diagonal)\n",
    "    return H"
   ]
  },
  {
   "cell_type": "code",
   "execution_count": 6,
   "metadata": {},
   "outputs": [
    {
     "name": "stdout",
     "output_type": "stream",
     "text": [
      "Optimization terminated successfully.\n",
      "         Current function value: 0.000000\n",
      "         Iterations: 24\n",
      "         Function evaluations: 33\n",
      "         Gradient evaluations: 56\n",
      "         Hessian evaluations: 24\n"
     ]
    },
    {
     "data": {
      "text/plain": [
       "array([1.        , 1.        , 1.        , 0.99999999, 0.99999999])"
      ]
     },
     "execution_count": 6,
     "metadata": {},
     "output_type": "execute_result"
    }
   ],
   "source": [
    "res = minimize(rosen, x0, method='Newton-CG',\n",
    "               jac=rosen_der, hess=rosen_hess,\n",
    "               options={'xtol': 1e-8, 'disp': True})\n",
    "res.x"
   ]
  },
  {
   "cell_type": "code",
   "execution_count": 7,
   "metadata": {},
   "outputs": [],
   "source": [
    "def rosen_hess_p(x, p):\n",
    "    x = np.asarray(x)\n",
    "    Hp = np.zeros_like(x)\n",
    "    Hp[0] = (1200*x[0]**2 - 400*x[1] + 2)*p[0] - 400*x[0]*p[1]\n",
    "    Hp[1:-1] = -400*x[:-2]*p[:-2]+(202+1200*x[1:-1]**2-400*x[2:])*p[1:-1] \\\n",
    "               -400*x[1:-1]*p[2:]\n",
    "    Hp[-1] = -400*x[-2]*p[-2] + 200*p[-1]\n",
    "    return Hp"
   ]
  },
  {
   "cell_type": "code",
   "execution_count": 8,
   "metadata": {},
   "outputs": [
    {
     "name": "stdout",
     "output_type": "stream",
     "text": [
      "Optimization terminated successfully.\n",
      "         Current function value: 0.000000\n",
      "         Iterations: 24\n",
      "         Function evaluations: 33\n",
      "         Gradient evaluations: 56\n",
      "         Hessian evaluations: 66\n"
     ]
    },
    {
     "data": {
      "text/plain": [
       "array([1.        , 1.        , 1.        , 0.99999999, 0.99999999])"
      ]
     },
     "execution_count": 8,
     "metadata": {},
     "output_type": "execute_result"
    }
   ],
   "source": [
    "res = minimize(rosen, x0, method='Newton-CG',\n",
    "               jac=rosen_der, hessp=rosen_hess_p,\n",
    "               options={'xtol': 1e-8, 'disp': True})\n",
    "res.x"
   ]
  },
  {
   "cell_type": "code",
   "execution_count": 9,
   "metadata": {},
   "outputs": [
    {
     "name": "stdout",
     "output_type": "stream",
     "text": [
      "Optimization terminated successfully.\n",
      "         Current function value: 0.000000\n",
      "         Iterations: 20\n",
      "         Function evaluations: 21\n",
      "         Gradient evaluations: 20\n",
      "         Hessian evaluations: 19\n"
     ]
    },
    {
     "data": {
      "text/plain": [
       "array([1., 1., 1., 1., 1.])"
      ]
     },
     "execution_count": 9,
     "metadata": {},
     "output_type": "execute_result"
    }
   ],
   "source": [
    "res = minimize(rosen, x0, method='trust-ncg',\n",
    "               jac=rosen_der, hess=rosen_hess,\n",
    "               options={'gtol': 1e-8, 'disp': True})\n",
    "res.x"
   ]
  },
  {
   "cell_type": "code",
   "execution_count": 10,
   "metadata": {},
   "outputs": [
    {
     "name": "stdout",
     "output_type": "stream",
     "text": [
      "Optimization terminated successfully.\n",
      "         Current function value: 0.000000\n",
      "         Iterations: 20\n",
      "         Function evaluations: 21\n",
      "         Gradient evaluations: 20\n",
      "         Hessian evaluations: 73\n"
     ]
    },
    {
     "data": {
      "text/plain": [
       "array([1., 1., 1., 1., 1.])"
      ]
     },
     "execution_count": 10,
     "metadata": {},
     "output_type": "execute_result"
    }
   ],
   "source": [
    "res = minimize(rosen, x0, method='trust-ncg',\n",
    "               jac=rosen_der, hessp=rosen_hess_p,\n",
    "               options={'gtol': 1e-8, 'disp': True})\n",
    "res.x"
   ]
  },
  {
   "cell_type": "code",
   "execution_count": 11,
   "metadata": {},
   "outputs": [
    {
     "name": "stdout",
     "output_type": "stream",
     "text": [
      " iter inewton type    objective     âgââ_Mâ»Â¹      leftmost         Î»             Î³             Î´             Î±             Î²       \n",
      "     0     0  cg_i -6.273083e+02  4.029038e+02  0.000000e+00  0.000000e+00  2.246107e+03  4.021147e+03  2.486853e-04  3.217671e-02\n",
      "\n",
      " iter inewton type    objective     âgââ_Mâ»Â¹      leftmost         Î»             Î³             Î´             Î±             Î²       \n",
      "     0     0  cg_i -9.528585e+01  1.478412e+02  0.000000e+00  0.000000e+00  6.001708e+02  1.890129e+03  5.290645e-04  6.067939e-02\n",
      "\n",
      " iter inewton type    objective     âgââ_Mâ»Â¹      leftmost         Î»             Î³             Î´             Î±             Î²       \n",
      "     0     0  cg_i -8.662599e+00  5.824611e+01  0.000000e+00  0.000000e+00  1.285783e+02  9.542387e+02  1.047956e-03  2.052100e-01\n",
      "\n",
      " iter inewton type    objective     âgââ_Mâ»Â¹      leftmost         Î»             Î³             Î´             Î±             Î²       \n",
      "     0     0  cg_i -1.798598e+00  3.481545e+01  0.000000e+00  0.000000e+00  5.168333e+01  7.425689e+02  1.346676e-03  4.537776e-01\n",
      "\n",
      "     1     0  cg_i -2.721261e+00  1.426076e+01  0.000000e+00  0.000000e+00  5.002168e+02  9.938183e+02  1.522401e-03  1.677804e-01\n",
      "\n",
      " iter inewton type    objective     âgââ_Mâ»Â¹      leftmost         Î»             Î³             Î´             Î±             Î²       \n",
      "     0     0  cg_i -7.242386e-02  4.575385e+00  0.000000e+00  0.000000e+00  1.400669e+01  1.354439e+03  7.383128e-04  1.067048e-01\n",
      "\n",
      " iter inewton type    objective     âgââ_Mâ»Â¹      leftmost         Î»             Î³             Î´             Î±             Î²       \n",
      "     0     0  cg_i -8.331939e-03  2.017934e+00  0.000000e+00  0.000000e+00  4.550681e+00  1.242730e+03  8.046802e-04  1.966351e-01\n",
      "\n",
      " iter inewton type    objective     âgââ_Mâ»Â¹      leftmost         Î»             Î³             Î´             Î±             Î²       \n",
      "     0     0  cg_i -1.639774e-03  1.039910e+00  0.000000e+00  0.000000e+00  2.017620e+00  1.241266e+03  8.056290e-04  2.656515e-01\n",
      "\n",
      "     1     0  cg_i -2.362748e-03  4.063620e-01  0.000000e+00  0.000000e+00  6.397659e+02  1.077635e+03  1.337094e-03  1.526986e-01\n",
      "\n",
      " iter inewton type    objective     âgââ_Mâ»Â¹      leftmost         Î»             Î³             Î´             Î±             Î²       \n",
      "     0     0  cg_i -1.218928e-04  2.280362e-01  0.000000e+00  0.000000e+00  4.066296e-01  6.782503e+02  1.474382e-03  3.144920e-01\n",
      "\n",
      "     1     0  cg_i -1.746236e-04  3.200387e-01  0.000000e+00  0.000000e+00  3.803600e+02  7.063791e+02  2.028090e-03  1.969687e+00\n",
      "\n",
      "     2     0  cg_i -3.519759e-04  3.984883e-01  0.000000e+00  0.000000e+00  6.920085e+02  1.259964e+03  3.463074e-03  1.550338e+00\n",
      "\n",
      "     3     0  cg_i -5.758296e-03  3.569591e+00  0.000000e+00  0.000000e+00  3.595435e+02  4.623626e+02  6.809270e-02  8.024274e+01\n",
      "\n",
      " TR Solving trust region problem, radius 2.500000e-01; starting on first irreducible block\n",
      " TR Coldstart. Seeking suitable initial Î»â, starting with 0\n",
      " TR Starting Newton iteration for Î»â with initial choice 0.000000e+00\n",
      " TR  iter        Î»            dÎ»       âhâ(Î»)â-radius\n",
      " TR      1  2.943145e-01  2.943145e-01  3.059076e-07\n",
      " TR      2  2.943152e-01  7.617834e-07 -1.801337e-14\n",
      "\n",
      " iter inewton type    objective     Î³áµ¢ââ|háµ¢|      leftmost         Î»             Î³             Î´       \n",
      "     4     2   hot -2.875301e-02  0.000000e+00  0.000000e+00  2.943152e-01  1.315535e+02  1.382362e+03\n",
      "\n",
      "Early exit as hotstart with early termination on\n",
      "\n",
      " iter inewton type    objective     âgââ_Mâ»Â¹      leftmost         Î»             Î³             Î´             Î±             Î²       \n",
      "     0     0  cg_i -7.518233e-03  1.522235e+00  0.000000e+00  0.000000e+00  4.090478e+00  1.112762e+03  8.986647e-04  1.384891e-01\n",
      "\n",
      " iter inewton type    objective     âgââ_Mâ»Â¹      leftmost         Î»             Î³             Î´             Î±             Î²       \n",
      "     0     0  cg_i -1.096841e-03  8.409536e-01  0.000000e+00  0.000000e+00  1.518407e+00  1.051001e+03  9.514742e-04  3.067379e-01\n",
      "\n",
      "     1     0  cg_i -1.570721e-03  3.392978e-01  0.000000e+00  0.000000e+00  5.820853e+02  1.068564e+03  1.340154e-03  1.627863e-01\n",
      "\n",
      " iter inewton type    objective     âgââ_Mâ»Â¹      leftmost         Î»             Î³             Î´             Î±             Î²       \n",
      "     0     0  cg_i -6.479100e-05  1.641071e-01  0.000000e+00  0.000000e+00  3.391135e-01  8.874534e+02  1.126820e-03  2.341879e-01\n",
      "\n",
      "     1     0  cg_i -8.150449e-05  1.044376e-01  0.000000e+00  0.000000e+00  4.294650e+02  1.013502e+03  1.241202e-03  4.050039e-01\n",
      "\n",
      " iter inewton type    objective     âgââ_Mâ»Â¹      leftmost         Î»             Î³             Î´             Î±             Î²       \n",
      "     0     0  cg_i -6.864955e-06  9.214155e-02  0.000000e+00  0.000000e+00  1.044215e-01  7.941673e+02  1.259181e-03  7.786304e-01\n",
      "\n",
      "     1     0  cg_i -1.991674e-05  1.301343e-01  0.000000e+00  0.000000e+00  7.007735e+02  9.436083e+02  3.074601e-03  1.994676e+00\n",
      "\n",
      "     2     0  cg_i -1.195321e-04  3.179941e-01  0.000000e+00  0.000000e+00  4.593539e+02  7.337610e+02  1.176448e-02  5.971103e+00\n",
      "\n",
      "     3     0  cg_i -4.188868e-04  7.535566e-01  0.000000e+00  0.000000e+00  2.077086e+02  6.764504e+02  5.920769e-03  5.615569e+00\n",
      "\n",
      " iter inewton type    objective     âgââ_Mâ»Â¹      leftmost         Î»             Î³             Î´             Î±             Î²       \n",
      "     0     0  cg_i -8.816451e-04  5.184366e-01  0.000000e+00  0.000000e+00  1.324450e+00  9.948272e+02  1.005200e-03  1.532216e-01\n",
      "\n",
      " iter inewton type    objective     âgââ_Mâ»Â¹      leftmost         Î»             Î³             Î´             Î±             Î²       \n",
      "     0     0  cg_i -1.332921e-04  2.868284e-01  0.000000e+00  0.000000e+00  5.178932e-01  1.006112e+03  9.939256e-04  3.067355e-01\n",
      "\n",
      "     1     0  cg_i -1.931659e-04  1.227712e-01  0.000000e+00  0.000000e+00  5.572219e+02  9.956424e+02  1.455536e-03  1.832097e-01\n",
      "\n",
      " iter inewton type    objective     âgââ_Mâ»Â¹      leftmost         Î»             Î³             Î´             Î±             Î²       \n",
      "     0     0  cg_i -7.494787e-06  5.036955e-02  0.000000e+00  0.000000e+00  1.227312e-01  1.004896e+03  9.951282e-04  1.684325e-01\n",
      "\n",
      "     1     0  cg_i -9.038951e-06  2.464230e-02  0.000000e+00  0.000000e+00  4.124145e+02  9.907665e+02  1.217272e-03  2.393460e-01\n",
      "\n",
      "     2     0  cg_i -9.419876e-06  1.237374e-02  0.000000e+00  0.000000e+00  4.019071e+02  9.936897e+02  1.254603e-03  2.521387e-01\n",
      "\n",
      " iter inewton type    objective     âgââ_Mâ»Â¹      leftmost         Î»             Î³             Î´             Î±             Î²       \n",
      "     0     0  cg_i -8.123315e-08  6.017427e-03  0.000000e+00  0.000000e+00  1.237352e-02  9.423732e+02  1.061151e-03  2.365023e-01\n",
      "\n",
      "     1     0  cg_i -1.141577e-07  5.764425e-03  0.000000e+00  0.000000e+00  4.582903e+02  7.727586e+02  1.818562e-03  9.176781e-01\n",
      "\n",
      "     2     0  cg_i -1.714596e-07  9.206608e-03  0.000000e+00  0.000000e+00  5.267653e+02  7.945608e+02  3.448951e-03  2.550864e+00\n",
      "\n",
      "     3     0  cg_i -3.626456e-07  1.409674e-02  0.000000e+00  0.000000e+00  4.630807e+02  9.612789e+02  4.511145e-03  2.344434e+00\n",
      "\n",
      " iter inewton type    objective     âgââ_Mâ»Â¹      leftmost         Î»             Î³             Î´             Î±             Î²       \n",
      "     0     0  cg_i -7.032046e-09  1.474521e-03  0.000000e+00  0.000000e+00  3.727647e-03  9.880023e+02  1.012143e-03  1.564705e-01\n",
      "\n",
      "     1     0  cg_i -8.304899e-09  6.906989e-04  0.000000e+00  0.000000e+00  3.908177e+02  1.008664e+03  1.170863e-03  2.194196e-01\n",
      "\n",
      "     2     0  cg_i -8.600911e-09  3.514945e-04  0.000000e+00  0.000000e+00  4.000658e+02  9.932200e+02  1.240972e-03  2.589760e-01\n",
      "\n",
      "     3     0  cg_i -8.677805e-09  2.907239e-05  0.000000e+00  0.000000e+00  4.100794e+02  1.012058e+03  1.244756e-03  6.841074e-03\n",
      "\n",
      " iter inewton type    objective     âgââ_Mâ»Â¹      leftmost         Î»             Î³             Î´             Î±             Î²       \n",
      "     0     0  cg_i -1.065816e-17  7.061929e-08  0.000000e+00  0.000000e+00  1.369755e-07  8.801844e+02  1.136126e-03  2.658036e-01\n",
      "\n",
      "     1     0  cg_i -1.488030e-17  6.089564e-08  0.000000e+00  0.000000e+00  4.537891e+02  8.245442e+02  1.693228e-03  7.435764e-01\n",
      "\n",
      "     2     0  cg_i -2.014909e-17  8.298704e-08  0.000000e+00  0.000000e+00  5.092692e+02  7.910571e+02  2.841638e-03  1.857155e+00\n",
      "\n",
      "     3     0  cg_i -3.327619e-17  1.245258e-07  0.000000e+00  0.000000e+00  4.795737e+02  9.158651e+02  3.812224e-03  2.251637e+00\n",
      "\n",
      "Optimization terminated successfully.\n",
      "         Current function value: 0.000000\n",
      "         Iterations: 19\n",
      "         Function evaluations: 20\n",
      "         Gradient evaluations: 20\n",
      "         Hessian evaluations: 18\n"
     ]
    },
    {
     "data": {
      "text/plain": [
       "array([1., 1., 1., 1., 1.])"
      ]
     },
     "execution_count": 11,
     "metadata": {},
     "output_type": "execute_result"
    }
   ],
   "source": [
    "res = minimize(rosen, x0, method='trust-krylov',\n",
    "               jac=rosen_der, hess=rosen_hess,\n",
    "               options={'gtol': 1e-8, 'disp': True})\n",
    "res.x"
   ]
  },
  {
   "cell_type": "code",
   "execution_count": 12,
   "metadata": {},
   "outputs": [
    {
     "name": "stdout",
     "output_type": "stream",
     "text": [
      " iter inewton type    objective     âgââ_Mâ»Â¹      leftmost         Î»             Î³             Î´             Î±             Î²       \n",
      "     0     0  cg_i -6.273083e+02  4.029038e+02  0.000000e+00  0.000000e+00  2.246107e+03  4.021147e+03  2.486853e-04  3.217671e-02\n",
      "\n",
      " iter inewton type    objective     âgââ_Mâ»Â¹      leftmost         Î»             Î³             Î´             Î±             Î²       \n",
      "     0     0  cg_i -9.528585e+01  1.478412e+02  0.000000e+00  0.000000e+00  6.001708e+02  1.890129e+03  5.290645e-04  6.067939e-02\n",
      "\n",
      " iter inewton type    objective     âgââ_Mâ»Â¹      leftmost         Î»             Î³             Î´             Î±             Î²       \n",
      "     0     0  cg_i -8.662599e+00  5.824611e+01  0.000000e+00  0.000000e+00  1.285783e+02  9.542387e+02  1.047956e-03  2.052100e-01\n",
      "\n",
      " iter inewton type    objective     âgââ_Mâ»Â¹      leftmost         Î»             Î³             Î´             Î±             Î²       \n",
      "     0     0  cg_i -1.798598e+00  3.481545e+01  0.000000e+00  0.000000e+00  5.168333e+01  7.425689e+02  1.346676e-03  4.537776e-01\n",
      "\n",
      "     1     0  cg_i -2.721261e+00  1.426076e+01  0.000000e+00  0.000000e+00  5.002168e+02  9.938183e+02  1.522401e-03  1.677804e-01\n",
      "\n",
      " iter inewton type    objective     âgââ_Mâ»Â¹      leftmost         Î»             Î³             Î´             Î±             Î²       \n",
      "     0     0  cg_i -7.242386e-02  4.575385e+00  0.000000e+00  0.000000e+00  1.400669e+01  1.354439e+03  7.383128e-04  1.067048e-01\n",
      "\n",
      " iter inewton type    objective     âgââ_Mâ»Â¹      leftmost         Î»             Î³             Î´             Î±             Î²       \n",
      "     0     0  cg_i -8.331939e-03  2.017934e+00  0.000000e+00  0.000000e+00  4.550681e+00  1.242730e+03  8.046802e-04  1.966351e-01\n",
      "\n",
      " iter inewton type    objective     âgââ_Mâ»Â¹      leftmost         Î»             Î³             Î´             Î±             Î²       \n",
      "     0     0  cg_i -1.639774e-03  1.039910e+00  0.000000e+00  0.000000e+00  2.017620e+00  1.241266e+03  8.056290e-04  2.656515e-01\n",
      "\n",
      "     1     0  cg_i -2.362748e-03  4.063620e-01  0.000000e+00  0.000000e+00  6.397659e+02  1.077635e+03  1.337094e-03  1.526986e-01\n",
      "\n",
      " iter inewton type    objective     âgââ_Mâ»Â¹      leftmost         Î»             Î³             Î´             Î±             Î²       \n",
      "     0     0  cg_i -1.218928e-04  2.280362e-01  0.000000e+00  0.000000e+00  4.066296e-01  6.782503e+02  1.474382e-03  3.144920e-01\n",
      "\n",
      "     1     0  cg_i -1.746236e-04  3.200387e-01  0.000000e+00  0.000000e+00  3.803600e+02  7.063791e+02  2.028090e-03  1.969687e+00\n",
      "\n",
      "     2     0  cg_i -3.519759e-04  3.984883e-01  0.000000e+00  0.000000e+00  6.920085e+02  1.259964e+03  3.463074e-03  1.550338e+00\n",
      "\n",
      "     3     0  cg_i -5.758296e-03  3.569591e+00  0.000000e+00  0.000000e+00  3.595435e+02  4.623626e+02  6.809270e-02  8.024274e+01\n",
      "\n",
      " TR Solving trust region problem, radius 2.500000e-01; starting on first irreducible block\n",
      " TR Coldstart. Seeking suitable initial Î»â, starting with 0\n",
      " TR Starting Newton iteration for Î»â with initial choice 0.000000e+00\n",
      " TR  iter        Î»            dÎ»       âhâ(Î»)â-radius\n",
      " TR      1  2.943145e-01  2.943145e-01  3.059076e-07\n",
      " TR      2  2.943152e-01  7.617834e-07  2.481348e-14\n",
      " TR Newton breakdown, dÎ» = 6.179161e-14 Î» = 2.943152e-01\n",
      "\n",
      " iter inewton type    objective     Î³áµ¢ââ|háµ¢|      leftmost         Î»             Î³             Î´       \n",
      "     4     3   hot -2.875301e-02  0.000000e+00  0.000000e+00  2.943152e-01  1.315535e+02  1.382362e+03\n",
      "\n",
      "Early exit as hotstart with early termination on\n",
      "\n",
      " iter inewton type    objective     âgââ_Mâ»Â¹      leftmost         Î»             Î³             Î´             Î±             Î²       \n",
      "     0     0  cg_i -7.518233e-03  1.522235e+00  0.000000e+00  0.000000e+00  4.090478e+00  1.112762e+03  8.986647e-04  1.384891e-01\n",
      "\n",
      " iter inewton type    objective     âgââ_Mâ»Â¹      leftmost         Î»             Î³             Î´             Î±             Î²       \n",
      "     0     0  cg_i -1.096841e-03  8.409536e-01  0.000000e+00  0.000000e+00  1.518407e+00  1.051001e+03  9.514742e-04  3.067379e-01\n",
      "\n",
      "     1     0  cg_i -1.570721e-03  3.392978e-01  0.000000e+00  0.000000e+00  5.820853e+02  1.068564e+03  1.340154e-03  1.627863e-01\n",
      "\n",
      " iter inewton type    objective     âgââ_Mâ»Â¹      leftmost         Î»             Î³             Î´             Î±             Î²       \n",
      "     0     0  cg_i -6.479100e-05  1.641071e-01  0.000000e+00  0.000000e+00  3.391135e-01  8.874534e+02  1.126820e-03  2.341879e-01\n",
      "\n",
      "     1     0  cg_i -8.150449e-05  1.044376e-01  0.000000e+00  0.000000e+00  4.294650e+02  1.013502e+03  1.241202e-03  4.050039e-01\n",
      "\n",
      " iter inewton type    objective     âgââ_Mâ»Â¹      leftmost         Î»             Î³             Î´             Î±             Î²       \n",
      "     0     0  cg_i -6.864955e-06  9.214155e-02  0.000000e+00  0.000000e+00  1.044215e-01  7.941673e+02  1.259181e-03  7.786304e-01\n",
      "\n",
      "     1     0  cg_i -1.991674e-05  1.301343e-01  0.000000e+00  0.000000e+00  7.007735e+02  9.436083e+02  3.074601e-03  1.994676e+00\n",
      "\n",
      "     2     0  cg_i -1.195321e-04  3.179941e-01  0.000000e+00  0.000000e+00  4.593539e+02  7.337610e+02  1.176448e-02  5.971103e+00\n",
      "\n",
      "     3     0  cg_i -4.188868e-04  7.535566e-01  0.000000e+00  0.000000e+00  2.077086e+02  6.764504e+02  5.920769e-03  5.615569e+00\n",
      "\n",
      " iter inewton type    objective     âgââ_Mâ»Â¹      leftmost         Î»             Î³             Î´             Î±             Î²       \n",
      "     0     0  cg_i -8.816451e-04  5.184366e-01  0.000000e+00  0.000000e+00  1.324450e+00  9.948272e+02  1.005200e-03  1.532216e-01\n",
      "\n",
      " iter inewton type    objective     âgââ_Mâ»Â¹      leftmost         Î»             Î³             Î´             Î±             Î²       \n",
      "     0     0  cg_i -1.332921e-04  2.868284e-01  0.000000e+00  0.000000e+00  5.178932e-01  1.006112e+03  9.939256e-04  3.067355e-01\n",
      "\n",
      "     1     0  cg_i -1.931659e-04  1.227712e-01  0.000000e+00  0.000000e+00  5.572219e+02  9.956424e+02  1.455536e-03  1.832097e-01\n",
      "\n",
      " iter inewton type    objective     âgââ_Mâ»Â¹      leftmost         Î»             Î³             Î´             Î±             Î²       \n",
      "     0     0  cg_i -7.494787e-06  5.036955e-02  0.000000e+00  0.000000e+00  1.227312e-01  1.004896e+03  9.951282e-04  1.684325e-01\n",
      "\n",
      "     1     0  cg_i -9.038951e-06  2.464230e-02  0.000000e+00  0.000000e+00  4.124145e+02  9.907665e+02  1.217272e-03  2.393460e-01\n",
      "\n",
      "     2     0  cg_i -9.419876e-06  1.237374e-02  0.000000e+00  0.000000e+00  4.019071e+02  9.936897e+02  1.254603e-03  2.521387e-01\n",
      "\n",
      " iter inewton type    objective     âgââ_Mâ»Â¹      leftmost         Î»             Î³             Î´             Î±             Î²       \n",
      "     0     0  cg_i -8.123315e-08  6.017427e-03  0.000000e+00  0.000000e+00  1.237352e-02  9.423732e+02  1.061151e-03  2.365023e-01\n",
      "\n",
      "     1     0  cg_i -1.141577e-07  5.764425e-03  0.000000e+00  0.000000e+00  4.582903e+02  7.727586e+02  1.818562e-03  9.176781e-01\n",
      "\n",
      "     2     0  cg_i -1.714596e-07  9.206608e-03  0.000000e+00  0.000000e+00  5.267653e+02  7.945608e+02  3.448951e-03  2.550864e+00\n",
      "\n",
      "     3     0  cg_i -3.626456e-07  1.409674e-02  0.000000e+00  0.000000e+00  4.630807e+02  9.612789e+02  4.511145e-03  2.344434e+00\n",
      "\n",
      " iter inewton type    objective     âgââ_Mâ»Â¹      leftmost         Î»             Î³             Î´             Î±             Î²       \n",
      "     0     0  cg_i -7.032046e-09  1.474521e-03  0.000000e+00  0.000000e+00  3.727647e-03  9.880023e+02  1.012143e-03  1.564705e-01\n",
      "\n",
      "     1     0  cg_i -8.304899e-09  6.906989e-04  0.000000e+00  0.000000e+00  3.908177e+02  1.008664e+03  1.170863e-03  2.194196e-01\n",
      "\n",
      "     2     0  cg_i -8.600911e-09  3.514945e-04  0.000000e+00  0.000000e+00  4.000658e+02  9.932200e+02  1.240972e-03  2.589760e-01\n",
      "\n",
      "     3     0  cg_i -8.677805e-09  2.907239e-05  0.000000e+00  0.000000e+00  4.100794e+02  1.012058e+03  1.244756e-03  6.841074e-03\n",
      "\n",
      " iter inewton type    objective     âgââ_Mâ»Â¹      leftmost         Î»             Î³             Î´             Î±             Î²       \n",
      "     0     0  cg_i -1.065816e-17  7.061929e-08  0.000000e+00  0.000000e+00  1.369755e-07  8.801844e+02  1.136126e-03  2.658036e-01\n",
      "\n",
      "     1     0  cg_i -1.488030e-17  6.089564e-08  0.000000e+00  0.000000e+00  4.537891e+02  8.245442e+02  1.693228e-03  7.435764e-01\n",
      "\n",
      "     2     0  cg_i -2.014909e-17  8.298704e-08  0.000000e+00  0.000000e+00  5.092692e+02  7.910571e+02  2.841638e-03  1.857155e+00\n",
      "\n",
      "     3     0  cg_i -3.327619e-17  1.245258e-07  0.000000e+00  0.000000e+00  4.795737e+02  9.158651e+02  3.812224e-03  2.251637e+00\n",
      "\n",
      "Optimization terminated successfully.\n",
      "         Current function value: 0.000000\n",
      "         Iterations: 19\n",
      "         Function evaluations: 20\n",
      "         Gradient evaluations: 20\n",
      "         Hessian evaluations: 64\n"
     ]
    },
    {
     "data": {
      "text/plain": [
       "array([1., 1., 1., 1., 1.])"
      ]
     },
     "execution_count": 12,
     "metadata": {},
     "output_type": "execute_result"
    }
   ],
   "source": [
    "res = minimize(rosen, x0, method='trust-krylov',\n",
    "               jac=rosen_der, hessp=rosen_hess_p,\n",
    "               options={'gtol': 1e-8, 'disp': True})\n",
    "res.x"
   ]
  },
  {
   "cell_type": "code",
   "execution_count": 13,
   "metadata": {},
   "outputs": [
    {
     "name": "stdout",
     "output_type": "stream",
     "text": [
      "Optimization terminated successfully.\n",
      "         Current function value: 0.000000\n",
      "         Iterations: 13\n",
      "         Function evaluations: 14\n",
      "         Gradient evaluations: 13\n",
      "         Hessian evaluations: 14\n"
     ]
    },
    {
     "data": {
      "text/plain": [
       "array([1., 1., 1., 1., 1.])"
      ]
     },
     "execution_count": 13,
     "metadata": {},
     "output_type": "execute_result"
    }
   ],
   "source": [
    "res = minimize(rosen, x0, method='trust-exact',\n",
    "               jac=rosen_der, hess=rosen_hess,\n",
    "               options={'gtol': 1e-8, 'disp': True})\n",
    "res.x"
   ]
  },
  {
   "cell_type": "code",
   "execution_count": 14,
   "metadata": {},
   "outputs": [],
   "source": [
    "from scipy.optimize import Bounds\n",
    "bounds = Bounds([0, -0.5], [1.0, 2.0])"
   ]
  },
  {
   "cell_type": "code",
   "execution_count": 15,
   "metadata": {},
   "outputs": [],
   "source": [
    "from scipy.optimize import LinearConstraint\n",
    "linear_constraint = LinearConstraint([[1, 2], [2, 1]], [-np.inf, 1], [1, 1])"
   ]
  },
  {
   "cell_type": "code",
   "execution_count": 16,
   "metadata": {},
   "outputs": [],
   "source": [
    "def cons_f(x):\n",
    "    return [x[0]**2 + x[1], x[0]**2 - x[1]]\n",
    "def cons_J(x):\n",
    "    return [[2*x[0], 1], [2*x[0], -1]]\n",
    "def cons_H(x, v):\n",
    "    return v[0]*np.array([[2, 0], [0, 0]]) + v[1]*np.array([[2, 0], [0, 0]])\n",
    "from scipy.optimize import NonlinearConstraint\n",
    "nonlinear_constraint = NonlinearConstraint(cons_f, -np.inf, 1, jac=cons_J, hess=cons_H)"
   ]
  },
  {
   "cell_type": "code",
   "execution_count": 17,
   "metadata": {},
   "outputs": [],
   "source": [
    "from scipy.sparse import csc_matrix\n",
    "def cons_H_sparse(x, v):\n",
    "    return v[0]*csc_matrix([[2, 0], [0, 0]]) + v[1]*csc_matrix([[2, 0], [0, 0]])\n",
    "nonlinear_constraint = NonlinearConstraint(cons_f, -np.inf, 1, jac=cons_J, hess=cons_H_sparse)"
   ]
  },
  {
   "cell_type": "code",
   "execution_count": 18,
   "metadata": {},
   "outputs": [],
   "source": [
    "from scipy.sparse.linalg import LinearOperator\n",
    "def cons_H_linear_operator(x, v):\n",
    "    def matvec(p):\n",
    "        return np.array([p[0]*2*(v[0]+v[1]), 0])\n",
    "    return LinearOperator((2, 2), matvec=matvec)\n",
    "nonlinear_constraint = NonlinearConstraint(cons_f, -np.inf, 1, jac=cons_J, hess=cons_H_linear_operator)"
   ]
  },
  {
   "cell_type": "code",
   "execution_count": 19,
   "metadata": {},
   "outputs": [],
   "source": [
    "from scipy.optimize import BFGS\n",
    "nonlinear_constraint = NonlinearConstraint(cons_f, -np.inf, 1, jac=cons_J, hess=BFGS())"
   ]
  },
  {
   "cell_type": "code",
   "execution_count": 20,
   "metadata": {},
   "outputs": [],
   "source": [
    "nonlinear_constraint = NonlinearConstraint(cons_f, -np.inf, 1, jac=cons_J, hess='2-point')"
   ]
  },
  {
   "cell_type": "code",
   "execution_count": 21,
   "metadata": {},
   "outputs": [],
   "source": [
    "nonlinear_constraint = NonlinearConstraint(cons_f, -np.inf, 1, jac='2-point', hess=BFGS())"
   ]
  },
  {
   "cell_type": "code",
   "execution_count": 22,
   "metadata": {},
   "outputs": [
    {
     "name": "stdout",
     "output_type": "stream",
     "text": [
      "`gtol` termination condition is satisfied.\n",
      "Number of iterations: 12, function evaluations: 8, CG iterations: 7, optimality: 2.99e-09, constraint violation: 1.11e-16, execution time: 0.034 s.\n",
      "[0.41494531 0.17010937]\n"
     ]
    }
   ],
   "source": [
    "x0 = np.array([0.5, 0])\n",
    "res = minimize(rosen, x0, method='trust-constr', jac=rosen_der, hess=rosen_hess,\n",
    "               constraints=[linear_constraint, nonlinear_constraint],\n",
    "               options={'verbose': 1}, bounds=bounds)\n",
    "print(res.x)"
   ]
  },
  {
   "cell_type": "code",
   "execution_count": 23,
   "metadata": {},
   "outputs": [
    {
     "name": "stdout",
     "output_type": "stream",
     "text": [
      "`gtol` termination condition is satisfied.\n",
      "Number of iterations: 12, function evaluations: 8, CG iterations: 7, optimality: 2.99e-09, constraint violation: 1.11e-16, execution time: 0.032 s.\n",
      "[0.41494531 0.17010937]\n"
     ]
    }
   ],
   "source": [
    "def rosen_hess_linop(x):\n",
    "    def matvec(p):\n",
    "        return rosen_hess_p(x, p)\n",
    "    return LinearOperator((2, 2), matvec=matvec)\n",
    "res = minimize(rosen, x0, method='trust-constr', jac=rosen_der, hess=rosen_hess_linop,\n",
    "               constraints=[linear_constraint, nonlinear_constraint],\n",
    "               options={'verbose': 1}, bounds=bounds)\n",
    "print(res.x)"
   ]
  },
  {
   "cell_type": "code",
   "execution_count": 24,
   "metadata": {},
   "outputs": [
    {
     "name": "stdout",
     "output_type": "stream",
     "text": [
      "`gtol` termination condition is satisfied.\n",
      "Number of iterations: 12, function evaluations: 8, CG iterations: 7, optimality: 2.99e-09, constraint violation: 1.11e-16, execution time: 0.023 s.\n",
      "[0.41494531 0.17010937]\n"
     ]
    }
   ],
   "source": [
    "res = minimize(rosen, x0, method='trust-constr', jac=rosen_der, hessp=rosen_hess_p,\n",
    "               constraints=[linear_constraint, nonlinear_constraint],\n",
    "               options={'verbose': 1}, bounds=bounds)\n",
    "print(res.x)"
   ]
  },
  {
   "cell_type": "code",
   "execution_count": 25,
   "metadata": {},
   "outputs": [
    {
     "name": "stdout",
     "output_type": "stream",
     "text": [
      "`gtol` termination condition is satisfied.\n",
      "Number of iterations: 12, function evaluations: 24, CG iterations: 7, optimality: 4.48e-09, constraint violation: 0.00e+00, execution time: 0.017 s.\n",
      "[0.41494531 0.17010937]\n"
     ]
    }
   ],
   "source": [
    "from scipy.optimize import SR1\n",
    "res = minimize(rosen, x0, method='trust-constr',  jac=\"2-point\", hess=SR1(),\n",
    "               constraints=[linear_constraint, nonlinear_constraint],\n",
    "               options={'verbose': 1}, bounds=bounds)\n",
    "print(res.x)"
   ]
  },
  {
   "cell_type": "code",
   "execution_count": 26,
   "metadata": {},
   "outputs": [
    {
     "name": "stdout",
     "output_type": "stream",
     "text": [
      "Optimization terminated successfully.    (Exit mode 0)\n",
      "            Current function value: 0.34271757499419825\n",
      "            Iterations: 4\n",
      "            Function evaluations: 5\n",
      "            Gradient evaluations: 4\n",
      "[0.41494475 0.1701105 ]\n"
     ]
    }
   ],
   "source": [
    "ineq_cons = {'type': 'ineq',\n",
    "             'fun' : lambda x: np.array([1 - x[0] - 2*x[1],\n",
    "                                         1 - x[0]**2 - x[1],\n",
    "                                         1 - x[0]**2 + x[1]]),\n",
    "             'jac' : lambda x: np.array([[-1.0, -2.0],\n",
    "                                         [-2*x[0], -1.0],\n",
    "                                         [-2*x[0], 1.0]])}\n",
    "eq_cons = {'type': 'eq',\n",
    "           'fun' : lambda x: np.array([2*x[0] + x[1] - 1]),\n",
    "           'jac' : lambda x: np.array([2.0, 1.0])}\n",
    "\n",
    "x0 = np.array([0.5, 0])\n",
    "res = minimize(rosen, x0, method='SLSQP', jac=rosen_der,\n",
    "               constraints=[eq_cons, ineq_cons], options={'ftol': 1e-9, 'disp': True},\n",
    "               bounds=bounds)\n",
    "\n",
    "print(res.x)"
   ]
  },
  {
   "cell_type": "code",
   "execution_count": 27,
   "metadata": {},
   "outputs": [],
   "source": [
    "def eggholder(x):\n",
    "    return (-(x[1] + 47) * np.sin(np.sqrt(abs(x[0]/2 + (x[1]  + 47))))\n",
    "            -x[0] * np.sin(np.sqrt(abs(x[0] - (x[1]  + 47)))))\n",
    "\n",
    "bounds = [(-512, 512), (-512, 512)]"
   ]
  },
  {
   "cell_type": "code",
   "execution_count": 28,
   "metadata": {},
   "outputs": [
    {
     "data": {
      "text/plain": [
       "<Figure size 640x480 with 1 Axes>"
      ]
     },
     "metadata": {},
     "output_type": "display_data"
    }
   ],
   "source": [
    "import matplotlib.pyplot as plt\n",
    "from mpl_toolkits.mplot3d import Axes3D\n",
    "\n",
    "x = np.arange(-512, 513)\n",
    "y = np.arange(-512, 513)\n",
    "xgrid, ygrid = np.meshgrid(x, y)\n",
    "xy = np.stack([xgrid, ygrid])\n",
    "\n",
    "fig = plt.figure()\n",
    "ax = fig.add_subplot(111, projection='3d')\n",
    "ax.view_init(45, -45)\n",
    "ax.plot_surface(xgrid, ygrid, eggholder(xy), cmap='terrain')\n",
    "ax.set_xlabel('x')\n",
    "ax.set_ylabel('y')\n",
    "ax.set_zlabel('eggholder(x, y)')\n",
    "plt.show()"
   ]
  },
  {
   "cell_type": "code",
   "execution_count": 29,
   "metadata": {},
   "outputs": [
    {
     "data": {
      "text/plain": [
       "     fun: -935.3379515604197\n",
       "    funl: array([-935.33795156])\n",
       " message: 'Optimization terminated successfully.'\n",
       "    nfev: 42\n",
       "     nit: 2\n",
       "   nlfev: 37\n",
       "   nlhev: 0\n",
       "   nljev: 9\n",
       " success: True\n",
       "       x: array([439.48096952, 453.97740589])\n",
       "      xl: array([[439.48096952, 453.97740589]])"
      ]
     },
     "execution_count": 29,
     "metadata": {},
     "output_type": "execute_result"
    }
   ],
   "source": [
    "from scipy import optimize\n",
    "results = dict()\n",
    "results['shgo'] = optimize.shgo(eggholder, bounds)\n",
    "results['shgo']"
   ]
  },
  {
   "cell_type": "code",
   "execution_count": 30,
   "metadata": {},
   "outputs": [
    {
     "data": {
      "text/plain": [
       "     fun: -959.6406627207414\n",
       " message: ['Maximum number of iteration reached']\n",
       "    nfev: 4082\n",
       "    nhev: 0\n",
       "     nit: 1000\n",
       "    njev: 0\n",
       "  status: 0\n",
       " success: True\n",
       "       x: array([512.       , 404.2317953])"
      ]
     },
     "execution_count": 30,
     "metadata": {},
     "output_type": "execute_result"
    }
   ],
   "source": [
    "results['DA'] = optimize.dual_annealing(eggholder, bounds)\n",
    "results['DA']"
   ]
  },
  {
   "cell_type": "code",
   "execution_count": 31,
   "metadata": {},
   "outputs": [],
   "source": [
    "results['DE'] = optimize.differential_evolution(eggholder, bounds)\n",
    "results['BH'] = optimize.basinhopping(eggholder, bounds)\n",
    "results['shgo_sobol'] = optimize.shgo(eggholder, bounds, n=200, iters=5,\n",
    "                                      sampling_method='sobol')"
   ]
  },
  {
   "cell_type": "code",
   "execution_count": 32,
   "metadata": {},
   "outputs": [
    {
     "data": {
      "image/png": "[encoded data removed]",
      "text/plain": [
       "<Figure size 432x288 with 1 Axes>"
      ]
     },
     "metadata": {
      "needs_background": "light"
     },
     "output_type": "display_data"
    }
   ],
   "source": [
    "fig = plt.figure()\n",
    "ax = fig.add_subplot(111)\n",
    "im = ax.imshow(eggholder(xy), interpolation='bilinear', origin='lower',\n",
    "               cmap='gray')\n",
    "ax.set_xlabel('x')\n",
    "ax.set_ylabel('y')\n",
    "\n",
    "def plot_point(res, marker='o', color=None):\n",
    "    ax.plot(512+res.x[0], 512+res.x[1], marker=marker, color=color, ms=10)\n",
    "\n",
    "plot_point(results['BH'], color='y')  # basinhopping           - yellow\n",
    "plot_point(results['DE'], color='c')  # differential_evolution - cyan\n",
    "plot_point(results['DA'], color='w')  # dual_annealing.        - white\n",
    "\n",
    "# SHGO produces multiple minima, plot them all (with a smaller marker size)\n",
    "plot_point(results['shgo'], color='r', marker='+')\n",
    "plot_point(results['shgo_sobol'], color='r', marker='x')\n",
    "for i in range(results['shgo_sobol'].xl.shape[0]):\n",
    "    ax.plot(512 + results['shgo_sobol'].xl[i, 0],\n",
    "            512 + results['shgo_sobol'].xl[i, 1],\n",
    "            'ro', ms=2)\n",
    "\n",
    "ax.set_xlim([-4, 514*2])\n",
    "ax.set_ylim([-4, 514*2])\n",
    "plt.show()"
   ]
  },
  {
   "cell_type": "code",
   "execution_count": 33,
   "metadata": {},
   "outputs": [],
   "source": [
    "from scipy.optimize import least_squares\n",
    "\n",
    "def model(x, u):\n",
    "    return x[0] * (u ** 2 + x[1] * u) / (u ** 2 + x[2] * u + x[3])\n",
    "\n",
    "def fun(x, u, y):\n",
    "    return model(x, u) - y\n",
    "\n",
    "def jac(x, u, y):\n",
    "    J = np.empty((u.size, x.size))\n",
    "    den = u ** 2 + x[2] * u + x[3]\n",
    "    num = u ** 2 + x[1] * u\n",
    "    J[:, 0] = num / den\n",
    "    J[:, 1] = x[0] * u / den\n",
    "    J[:, 2] = -x[0] * num * u / den ** 2\n",
    "    J[:, 3] = -x[0] * num / den ** 2\n",
    "    return J"
   ]
  },
  {
   "cell_type": "code",
   "execution_count": 34,
   "metadata": {},
   "outputs": [
    {
     "name": "stdout",
     "output_type": "stream",
     "text": [
      "`ftol` termination condition is satisfied.\n",
      "Function evaluations 131, initial cost 4.4383e+00, final cost 1.5375e-04, first-order optimality 4.52e-08.\n"
     ]
    },
    {
     "data": {
      "text/plain": [
       "array([0.192806  , 0.19130332, 0.12306046, 0.13607205])"
      ]
     },
     "execution_count": 34,
     "metadata": {},
     "output_type": "execute_result"
    }
   ],
   "source": [
    "u = np.array([4.0, 2.0, 1.0, 5.0e-1, 2.5e-1, 1.67e-1, 1.25e-1, 1.0e-1,\n",
    "              8.33e-2, 7.14e-2, 6.25e-2])\n",
    "y = np.array([1.957e-1, 1.947e-1, 1.735e-1, 1.6e-1, 8.44e-2, 6.27e-2,\n",
    "              4.56e-2, 3.42e-2, 3.23e-2, 2.35e-2, 2.46e-2])\n",
    "x0 = np.array([2.5, 3.9, 4.15, 3.9])\n",
    "res = least_squares(fun, x0, jac=jac, bounds=(0, 100), args=(u, y), verbose=1)\n",
    "\n",
    "res.x"
   ]
  },
  {
   "cell_type": "code",
   "execution_count": 35,
   "metadata": {
    "scrolled": true
   },
   "outputs": [
    {
     "data": {
      "image/png": "[encoded data removed]",
      "text/plain": [
       "<Figure size 432x288 with 1 Axes>"
      ]
     },
     "metadata": {
      "needs_background": "light"
     },
     "output_type": "display_data"
    }
   ],
   "source": [
    "import matplotlib.pyplot as plt\n",
    "u_test = np.linspace(0, 5)\n",
    "y_test = model(res.x, u_test)\n",
    "plt.plot(u, y, 'o', markersize=4, label='data')\n",
    "plt.plot(u_test, y_test, label='fitted model')\n",
    "plt.xlabel(\"u\")\n",
    "plt.ylabel(\"y\")\n",
    "plt.legend(loc='lower right')\n",
    "plt.show()"
   ]
  },
  {
   "cell_type": "markdown",
   "metadata": {},
   "source": [
    "---"
   ]
  },
  {
   "cell_type": "code",
   "execution_count": 36,
   "metadata": {},
   "outputs": [],
   "source": [
    "from scipy.optimize import least_squares\n",
    "from scipy.sparse import coo_matrix\n",
    "\n",
    "n = 100\n",
    "c = 1\n",
    "\n",
    "def f(u):\n",
    "    return u**3\n",
    "\n",
    "def f_prime(u):\n",
    "    return 3 * u**2\n",
    "\n",
    "def fun(u, n, f, f_prime, c, **kwargs):\n",
    "    v = np.zeros((n + 2, n + 2))\n",
    "    u = u.reshape((n, n))\n",
    "    v[1:-1, 1:-1] = u\n",
    "    y = v[:-2, 1:-1] + v[2:, 1:-1] + v[1:-1, :-2] + v[1:-1, 2:] - 4 * u + c * f(u)\n",
    "    return y.ravel()\n",
    "\n",
    "def compute_jac_indices(n):\n",
    "    i = np.arange(n)\n",
    "    jj, ii = np.meshgrid(i, i)\n",
    "\n",
    "    ii = ii.ravel()\n",
    "    jj = jj.ravel()\n",
    "\n",
    "    ij = np.arange(n**2)\n",
    "\n",
    "    jac_rows = [ij]\n",
    "    jac_cols = [ij]\n",
    "\n",
    "    mask = ii > 0\n",
    "    ij_mask = ij[mask]\n",
    "    jac_rows.append(ij_mask)\n",
    "    jac_cols.append(ij_mask - n)\n",
    "\n",
    "    mask = ii < n - 1\n",
    "    ij_mask = ij[mask]\n",
    "    jac_rows.append(ij_mask)\n",
    "    jac_cols.append(ij_mask + n)\n",
    "\n",
    "    mask = jj > 0\n",
    "    ij_mask = ij[mask]\n",
    "    jac_rows.append(ij_mask)\n",
    "    jac_cols.append(ij_mask - 1)\n",
    "\n",
    "    mask = jj < n - 1\n",
    "    ij_mask = ij[mask]\n",
    "    jac_rows.append(ij_mask)\n",
    "    jac_cols.append(ij_mask + 1)\n",
    "\n",
    "    return np.hstack(jac_rows), np.hstack(jac_cols)\n",
    "\n",
    "jac_rows, jac_cols = compute_jac_indices(n)\n",
    "\n",
    "def jac(u, n, f, f_prime, c, jac_rows=None, jac_cols=None):\n",
    "    jac_values = np.ones_like(jac_cols, dtype=float)\n",
    "    jac_values[:n**2] = -4 + c * f_prime(u)\n",
    "    return coo_matrix((jac_values, (jac_rows, jac_cols)), shape=(n**2, n**2))"
   ]
  },
  {
   "cell_type": "code",
   "execution_count": 37,
   "metadata": {},
   "outputs": [
    {
     "name": "stdout",
     "output_type": "stream",
     "text": [
      "`gtol` termination condition is satisfied.\n",
      "Function evaluations 114, initial cost 1.0412e+02, final cost 2.9178e-03, first-order optimality 9.94e-04.\n"
     ]
    }
   ],
   "source": [
    "u0 = np.ones(n**2) * 0.5\n",
    "jac_rows, jac_cols = compute_jac_indices(n)\n",
    "res_1 = least_squares(fun, u0, jac=jac, gtol=1e-3, args=(n, f, f_prime, c), kwargs={'jac_rows': jac_rows, 'jac_cols': jac_cols}, verbose=1)"
   ]
  },
  {
   "cell_type": "code",
   "execution_count": 38,
   "metadata": {
    "scrolled": true
   },
   "outputs": [
    {
     "data": {
      "image/png": "[encoded data removed]",
      "text/plain": [
       "<Figure size 1152x360 with 4 Axes>"
      ]
     },
     "metadata": {
      "needs_background": "light"
     },
     "output_type": "display_data"
    }
   ],
   "source": [
    "plt.figure(figsize=(16, 5))\n",
    "plt.subplot(132)\n",
    "plt.imshow(res_1.x.reshape((n, n)), cmap='coolwarm', vmin=-max(abs(res_1.x)), vmax=max(abs(res_1.x)))\n",
    "plt.colorbar(use_gridspec=True, fraction=0.046, pad=0.04)\n",
    "plt.subplot(131)\n",
    "plt.plot(res_1.x)\n",
    "plt.subplot(133)\n",
    "plt.plot(res_1.fun)\n",
    "plt.tight_layout()"
   ]
  },
  {
   "cell_type": "code",
   "execution_count": 39,
   "metadata": {},
   "outputs": [
    {
     "name": "stdout",
     "output_type": "stream",
     "text": [
      "`gtol` termination condition is satisfied.\n",
      "Function evaluations 34, initial cost 1.0412e+02, final cost 4.0952e-02, first-order optimality 9.64e-04.\n"
     ]
    }
   ],
   "source": [
    "res_2 = least_squares(fun, u0, jac=jac, bounds=(0, np.inf), gtol=1e-3,\n",
    "                      args=(n, f, f_prime, c), kwargs={'jac_rows': jac_rows, 'jac_cols': jac_cols}, verbose=1)"
   ]
  },
  {
   "cell_type": "code",
   "execution_count": 40,
   "metadata": {},
   "outputs": [
    {
     "data": {
      "image/png": "[encoded data removed]",
      "text/plain": [
       "<Figure size 1152x360 with 4 Axes>"
      ]
     },
     "metadata": {
      "needs_background": "light"
     },
     "output_type": "display_data"
    }
   ],
   "source": [
    "plt.figure(figsize=(16, 5))\n",
    "plt.subplot(132)\n",
    "plt.imshow(res_2.x.reshape((n, n)), cmap='Reds')\n",
    "plt.colorbar(use_gridspec=True, fraction=0.046, pad=0.04)\n",
    "plt.subplot(131)\n",
    "plt.plot(res_2.x)\n",
    "plt.subplot(133)\n",
    "plt.plot(res_2.fun)\n",
    "plt.tight_layout()"
   ]
  },
  {
   "cell_type": "markdown",
   "metadata": {},
   "source": [
    "---"
   ]
  },
  {
   "cell_type": "code",
   "execution_count": 41,
   "metadata": {},
   "outputs": [
    {
     "name": "stdout",
     "output_type": "stream",
     "text": [
      "1.0\n"
     ]
    }
   ],
   "source": [
    "from scipy.optimize import minimize_scalar\n",
    "f = lambda x: (x - 2) * (x + 1)**2\n",
    "res = minimize_scalar(f, method='brent')\n",
    "print(res.x)"
   ]
  },
  {
   "cell_type": "code",
   "execution_count": 42,
   "metadata": {},
   "outputs": [
    {
     "data": {
      "text/plain": [
       "5.3314418424098315"
      ]
     },
     "execution_count": 42,
     "metadata": {},
     "output_type": "execute_result"
    }
   ],
   "source": [
    "from scipy.special import j1\n",
    "res = minimize_scalar(j1, bounds=(4, 7), method='bounded')\n",
    "res.x"
   ]
  },
  {
   "cell_type": "code",
   "execution_count": 43,
   "metadata": {},
   "outputs": [
    {
     "data": {
      "text/plain": [
       "array([1., 1., 1., 1., 1.])"
      ]
     },
     "execution_count": 43,
     "metadata": {},
     "output_type": "execute_result"
    }
   ],
   "source": [
    "from scipy.optimize import OptimizeResult\n",
    "def custmin(fun, x0, args=(), maxfev=None, stepsize=0.1,\n",
    "        maxiter=100, callback=None, **options):\n",
    "    bestx = x0\n",
    "    besty = fun(x0)\n",
    "    funcalls = 1\n",
    "    niter = 0\n",
    "    improved = True\n",
    "    stop = False\n",
    "\n",
    "    while improved and not stop and niter < maxiter:\n",
    "        improved = False\n",
    "        niter += 1\n",
    "        for dim in range(np.size(x0)):\n",
    "            for s in [bestx[dim] - stepsize, bestx[dim] + stepsize]:\n",
    "                testx = np.copy(bestx)\n",
    "                testx[dim] = s\n",
    "                testy = fun(testx, *args)\n",
    "                funcalls += 1\n",
    "                if testy < besty:\n",
    "                    besty = testy\n",
    "                    bestx = testx\n",
    "                    improved = True\n",
    "            if callback is not None:\n",
    "                callback(bestx)\n",
    "            if maxfev is not None and funcalls >= maxfev:\n",
    "                stop = True\n",
    "                break\n",
    "\n",
    "    return OptimizeResult(fun=besty, x=bestx, nit=niter,\n",
    "                          nfev=funcalls, success=(niter > 1))\n",
    "x0 = [1.35, 0.9, 0.8, 1.1, 1.2]\n",
    "res = minimize(rosen, x0, method=custmin, options=dict(stepsize=0.05))\n",
    "res.x"
   ]
  },
  {
   "cell_type": "code",
   "execution_count": 44,
   "metadata": {},
   "outputs": [
    {
     "data": {
      "text/plain": [
       "-2.0"
      ]
     },
     "execution_count": 44,
     "metadata": {},
     "output_type": "execute_result"
    }
   ],
   "source": [
    "def custmin(fun, bracket, args=(), maxfev=None, stepsize=0.1,\n",
    "        maxiter=100, callback=None, **options):\n",
    "    bestx = (bracket[1] + bracket[0]) / 2.0\n",
    "    besty = fun(bestx)\n",
    "    funcalls = 1\n",
    "    niter = 0\n",
    "    improved = True\n",
    "    stop = False\n",
    "\n",
    "    while improved and not stop and niter < maxiter:\n",
    "        improved = False\n",
    "        niter += 1\n",
    "        for testx in [bestx - stepsize, bestx + stepsize]:\n",
    "            testy = fun(testx, *args)\n",
    "            funcalls += 1\n",
    "            if testy < besty:\n",
    "                besty = testy\n",
    "                bestx = testx\n",
    "                improved = True\n",
    "        if callback is not None:\n",
    "            callback(bestx)\n",
    "        if maxfev is not None and funcalls >= maxfev:\n",
    "            stop = True\n",
    "            break\n",
    "\n",
    "    return OptimizeResult(fun=besty, x=bestx, nit=niter,\n",
    "                          nfev=funcalls, success=(niter > 1))\n",
    "def f(x):\n",
    "    return (x - 2)**2 * (x + 2)**2\n",
    "res = minimize_scalar(f, bracket=(-3.5, 0), method=custmin,\n",
    "                      options=dict(stepsize = 0.05))\n",
    "res.x"
   ]
  },
  {
   "cell_type": "code",
   "execution_count": 45,
   "metadata": {},
   "outputs": [
    {
     "data": {
      "text/plain": [
       "array([-6.66133815e-16])"
      ]
     },
     "execution_count": 45,
     "metadata": {},
     "output_type": "execute_result"
    }
   ],
   "source": [
    "from scipy.optimize import root\n",
    "def func(x):\n",
    "    return x + 2 * np.cos(x)\n",
    "sol = root(func, 0.3)\n",
    "sol.x\n",
    "\n",
    "sol.fun"
   ]
  },
  {
   "cell_type": "code",
   "execution_count": 46,
   "metadata": {},
   "outputs": [
    {
     "data": {
      "text/plain": [
       "array([6.50409711, 0.90841421])"
      ]
     },
     "execution_count": 46,
     "metadata": {},
     "output_type": "execute_result"
    }
   ],
   "source": [
    "def func2(x):\n",
    "    f = [x[0] * np.cos(x[1]) - 4,\n",
    "         x[1]*x[0] - x[1] - 5]\n",
    "    df = np.array([[np.cos(x[1]), -x[0] * np.sin(x[1])],\n",
    "                   [x[1], x[0] - 1]])\n",
    "    return f, df\n",
    "sol = root(func2, [1, 1], jac=True, method='lm')\n",
    "sol.x"
   ]
  },
  {
   "cell_type": "code",
   "execution_count": 47,
   "metadata": {},
   "outputs": [
    {
     "name": "stdout",
     "output_type": "stream",
     "text": [
      "0:  |F(x)| = 40.1231; step 1\n",
      "1:  |F(x)| = 16.8214; step 1\n",
      "2:  |F(x)| = 5.69096; step 1\n",
      "3:  |F(x)| = 1.40675; step 1\n",
      "4:  |F(x)| = 0.0385813; step 1\n",
      "5:  |F(x)| = 0.00171513; step 1\n",
      "6:  |F(x)| = 0.000132303; step 1\n",
      "7:  |F(x)| = 6.25528e-06; step 1\n",
      "8:  |F(x)| = 4.29134e-07; step 1\n",
      "Residual: 4.29134e-07\n"
     ]
    },
    {
     "data": {
      "image/png": "[encoded data removed]",
      "text/plain": [
       "<Figure size 432x288 with 2 Axes>"
      ]
     },
     "metadata": {
      "needs_background": "light"
     },
     "output_type": "display_data"
    }
   ],
   "source": [
    "from numpy import cosh, zeros_like, mgrid, zeros\n",
    "\n",
    "# parameters\n",
    "nx, ny = 75, 75\n",
    "hx, hy = 1./(nx-1), 1./(ny-1)\n",
    "\n",
    "P_left, P_right = 0, 0\n",
    "P_top, P_bottom = 1, 0\n",
    "\n",
    "def residual(P):\n",
    "    d2x = zeros_like(P)\n",
    "    d2y = zeros_like(P)\n",
    "\n",
    "    d2x[1:-1] = (P[2:]   - 2*P[1:-1] + P[:-2]) / hx/hx\n",
    "    d2x[0]    = (P[1]    - 2*P[0]    + P_left)/hx/hx\n",
    "    d2x[-1]   = (P_right - 2*P[-1]   + P[-2])/hx/hx\n",
    "\n",
    "    d2y[:,1:-1] = (P[:,2:] - 2*P[:,1:-1] + P[:,:-2])/hy/hy\n",
    "    d2y[:,0]    = (P[:,1]  - 2*P[:,0]    + P_bottom)/hy/hy\n",
    "    d2y[:,-1]   = (P_top   - 2*P[:,-1]   + P[:,-2])/hy/hy\n",
    "\n",
    "    return d2x + d2y + 5*cosh(P).mean()**2\n",
    "\n",
    "# solve\n",
    "guess = zeros((nx, ny), float)\n",
    "sol = root(residual, guess, method='krylov', options={'disp': True})\n",
    "#sol = root(residual, guess, method='broyden2', options={'disp': True, 'max_rank': 50})\n",
    "#sol = root(residual, guess, method='anderson', options={'disp': True, 'M': 10})\n",
    "print('Residual: %g' % abs(residual(sol.x)).max())\n",
    "\n",
    "# visualize\n",
    "import matplotlib.pyplot as plt\n",
    "x, y = mgrid[0:1:(nx*1j), 0:1:(ny*1j)]\n",
    "plt.pcolor(x, y, sol.x)\n",
    "plt.colorbar()\n",
    "plt.show()"
   ]
  },
  {
   "cell_type": "code",
   "execution_count": 48,
   "metadata": {},
   "outputs": [],
   "source": [
    "from scipy.optimize import root\n",
    "from scipy.sparse import spdiags, kron\n",
    "from scipy.sparse.linalg import spilu, LinearOperator\n",
    "from numpy import cosh, zeros_like, mgrid, zeros, eye\n",
    "\n",
    "# parameters\n",
    "nx, ny = 75, 75\n",
    "hx, hy = 1./(nx-1), 1./(ny-1)\n",
    "\n",
    "P_left, P_right = 0, 0\n",
    "P_top, P_bottom = 1, 0\n",
    "\n",
    "def get_preconditioner():\n",
    "    \"\"\"Compute the preconditioner M\"\"\"\n",
    "    diags_x = zeros((3, nx))\n",
    "    diags_x[0,:] = 1/hx/hx\n",
    "    diags_x[1,:] = -2/hx/hx\n",
    "    diags_x[2,:] = 1/hx/hx\n",
    "    Lx = spdiags(diags_x, [-1,0,1], nx, nx)\n",
    "\n",
    "    diags_y = zeros((3, ny))\n",
    "    diags_y[0,:] = 1/hy/hy\n",
    "    diags_y[1,:] = -2/hy/hy\n",
    "    diags_y[2,:] = 1/hy/hy\n",
    "    Ly = spdiags(diags_y, [-1,0,1], ny, ny)\n",
    "\n",
    "    J1 = kron(Lx, eye(ny)) + kron(eye(nx), Ly)\n",
    "\n",
    "    # Now we have the matrix `J_1`. We need to find its inverse `M` --\n",
    "    # however, since an approximate inverse is enough, we can use\n",
    "    # the *incomplete LU* decomposition\n",
    "\n",
    "    J1_ilu = spilu(J1)\n",
    "\n",
    "    # This returns an object with a method .solve() that evaluates\n",
    "    # the corresponding matrix-vector product. We need to wrap it into\n",
    "    # a LinearOperator before it can be passed to the Krylov methods:\n",
    "\n",
    "    M = LinearOperator(shape=(nx*ny, nx*ny), matvec=J1_ilu.solve)\n",
    "    return M\n",
    "\n",
    "def solve(preconditioning=True):\n",
    "    \"\"\"Compute the solution\"\"\"\n",
    "    count = [0]\n",
    "\n",
    "    def residual(P):\n",
    "        count[0] += 1\n",
    "\n",
    "        d2x = zeros_like(P)\n",
    "        d2y = zeros_like(P)\n",
    "\n",
    "        d2x[1:-1] = (P[2:]   - 2*P[1:-1] + P[:-2])/hx/hx\n",
    "        d2x[0]    = (P[1]    - 2*P[0]    + P_left)/hx/hx\n",
    "        d2x[-1]   = (P_right - 2*P[-1]   + P[-2])/hx/hx\n",
    "\n",
    "        d2y[:,1:-1] = (P[:,2:] - 2*P[:,1:-1] + P[:,:-2])/hy/hy\n",
    "        d2y[:,0]    = (P[:,1]  - 2*P[:,0]    + P_bottom)/hy/hy\n",
    "        d2y[:,-1]   = (P_top   - 2*P[:,-1]   + P[:,-2])/hy/hy\n",
    "\n",
    "        return d2x + d2y + 5*cosh(P).mean()**2\n",
    "\n",
    "    # preconditioner\n",
    "    if preconditioning:\n",
    "        M = get_preconditioner()\n",
    "    else:\n",
    "        M = None\n",
    "\n",
    "    # solve\n",
    "    guess = zeros((nx, ny), float)\n",
    "\n",
    "    sol = root(residual, guess, method='krylov',\n",
    "               options={'disp': True,\n",
    "                        'jac_options': {'inner_M': M}})\n",
    "    print('Residual', abs(residual(sol.x)).max())\n",
    "    print('Evaluations', count[0])\n",
    "\n",
    "    return sol.x"
   ]
  },
  {
   "cell_type": "code",
   "execution_count": 49,
   "metadata": {},
   "outputs": [
    {
     "name": "stdout",
     "output_type": "stream",
     "text": [
      "0:  |F(x)| = 40.1231; step 1\n",
      "1:  |F(x)| = 16.8214; step 1\n",
      "2:  |F(x)| = 5.69096; step 1\n",
      "3:  |F(x)| = 1.40675; step 1\n",
      "4:  |F(x)| = 0.0385813; step 1\n",
      "5:  |F(x)| = 0.00171513; step 1\n",
      "6:  |F(x)| = 0.000132303; step 1\n",
      "7:  |F(x)| = 6.25528e-06; step 1\n",
      "8:  |F(x)| = 4.29134e-07; step 1\n",
      "Residual 4.291341335616039e-07\n",
      "Evaluations 317\n"
     ]
    },
    {
     "data": {
      "image/png": "[encoded data removed]",
      "text/plain": [
       "<Figure size 432x288 with 2 Axes>"
      ]
     },
     "metadata": {
      "needs_background": "light"
     },
     "output_type": "display_data"
    }
   ],
   "source": [
    "sol = solve(preconditioning=False)\n",
    "\n",
    "# visualize\n",
    "import matplotlib.pyplot as plt\n",
    "x, y = mgrid[0:1:(nx*1j), 0:1:(ny*1j)]\n",
    "plt.clf()\n",
    "plt.pcolor(x, y, sol)\n",
    "plt.clim(0, 1)\n",
    "plt.colorbar()\n",
    "plt.show()"
   ]
  },
  {
   "cell_type": "code",
   "execution_count": 50,
   "metadata": {},
   "outputs": [
    {
     "name": "stdout",
     "output_type": "stream",
     "text": [
      "0:  |F(x)| = 36.6457; step 1\n",
      "1:  |F(x)| = 0.246602; step 1\n",
      "2:  |F(x)| = 0.0597787; step 1\n",
      "3:  |F(x)| = 3.74416e-05; step 1\n",
      "4:  |F(x)| = 8.34925e-10; step 1\n"
     ]
    },
    {
     "name": "stderr",
     "output_type": "stream",
     "text": [
      "/Users/alex/anaconda3/lib/python3.7/site-packages/scipy/sparse/linalg/dsolve/linsolve.py:394: SparseEfficiencyWarning: splu requires CSC matrix format\n",
      "  warn('splu requires CSC matrix format', SparseEfficiencyWarning)\n"
     ]
    },
    {
     "name": "stdout",
     "output_type": "stream",
     "text": [
      "Residual 8.349250180117451e-10\n",
      "Evaluations 140\n"
     ]
    },
    {
     "data": {
      "image/png": "[encoded data removed]",
      "text/plain": [
       "<Figure size 432x288 with 2 Axes>"
      ]
     },
     "metadata": {
      "needs_background": "light"
     },
     "output_type": "display_data"
    }
   ],
   "source": [
    "sol = solve(preconditioning=True)\n",
    "\n",
    "# visualize\n",
    "import matplotlib.pyplot as plt\n",
    "x, y = mgrid[0:1:(nx*1j), 0:1:(ny*1j)]\n",
    "plt.clf()\n",
    "plt.pcolor(x, y, sol)\n",
    "plt.clim(0, 1)\n",
    "plt.colorbar()\n",
    "plt.show()"
   ]
  }
 ],
 "metadata": {
  "kernelspec": {
   "display_name": "Python 3",
   "language": "python",
   "name": "python3"
  },
  "language_info": {
   "codemirror_mode": {
    "name": "ipython",
    "version": 3
   },
   "file_extension": ".py",
   "mimetype": "text/x-python",
   "name": "python",
   "nbconvert_exporter": "python",
   "pygments_lexer": "ipython3",
   "version": "3.7.3"
  }
 },
 "nbformat": 4,
 "nbformat_minor": 2
}
